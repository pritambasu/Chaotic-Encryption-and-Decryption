{
 "cells": [
  {
   "cell_type": "code",
   "execution_count": 2,
   "metadata": {},
   "outputs": [],
   "source": [
    "import numpy as np\n",
    "import cv2\n",
    "import time"
   ]
  },
  {
   "cell_type": "code",
   "execution_count": 3,
   "metadata": {},
   "outputs": [
    {
     "data": {
      "text/plain": [
       "True"
      ]
     },
     "execution_count": 3,
     "metadata": {},
     "output_type": "execute_result"
    }
   ],
   "source": [
    "img = cv2.imread(\"lena.png\",cv2.IMREAD_GRAYSCALE)\n",
    "img=cv2.resize(img,(256,256))\n",
    "cv2.imwrite(\"lenaa.jpg\" , img )"
   ]
  },
  {
   "cell_type": "code",
   "execution_count": 13,
   "metadata": {},
   "outputs": [
    {
     "name": "stdout",
     "output_type": "stream",
     "text": [
      "[[162 162 159 ... 168 170 141]\n",
      " [162 162 159 ... 168 170 141]\n",
      " [163 159 160 ... 157 150 115]\n",
      " ...\n",
      " [ 51  51  53 ...  81  92  91]\n",
      " [ 44  48  50 ...  92 101  98]\n",
      " [ 43  56  50 ... 101 102 106]]\n"
     ]
    }
   ],
   "source": [
    "print(img)"
   ]
  },
  {
   "cell_type": "code",
   "execution_count": null,
   "metadata": {},
   "outputs": [],
   "source": []
  },
  {
   "cell_type": "code",
   "execution_count": 44,
   "metadata": {},
   "outputs": [],
   "source": [
    "def encryption_function(image):\n",
    "    timg=image\n",
    "    print(timg)\n",
    "    r=3.62\n",
    "    x=[0.7]\n",
    "    row=image.shape[0]\n",
    "    col=image.shape[1]\n",
    "    s=row*col\n",
    "    for i in range(s-1):\n",
    "        x.append(r*x[-1]*(1-x[-1]))\n",
    "    # print(len(x))\n",
    "    # print(len(set(x)))\n",
    "    indices={}\n",
    "    for index,value in enumerate(x):\n",
    "        indices[value]=index\n",
    "    \n",
    "    x.sort()\n",
    "    _timg=[]\n",
    "    for i in range(row):\n",
    "        for j in range(col):\n",
    "            _timg.append(timg[i][j])\n",
    "    # print(_timg)\n",
    "    for i in range(len(_timg)):\n",
    "        _timg[i],_timg[indices[x[i]]]=_timg[indices[x[i]]],_timg[i]     #assuming all valules are different\n",
    "\n",
    "    #confusion creation ends\n",
    "    print(\"confusion\")\n",
    "    #print(_timg)\n",
    "    #creating diffusion key\n",
    "    p=3.628\n",
    "    k=[0.632]\n",
    "    import math\n",
    "    for i in range(s-1):\n",
    "        k.append(math.cos(p*math.acos(k[-1])))\n",
    "    for i in range(len(k)):\n",
    "        k[i]=abs(round(k[i]*255))\n",
    "    ktemp=circshift(k)\n",
    "    key=np.bitwise_xor(k,ktemp)\n",
    "\n",
    "    #diffusion key creation ended\n",
    "  #the final encryption begin\n",
    "    _timg=np.array(_timg).astype('uint8')\n",
    "    \n",
    "    key=np.array(key).astype('uint8')\n",
    "    _timg=np.bitwise_xor(key,_timg)\n",
    "    print(\"enc\")\n",
    "    print(_timg)\n",
    "    himg=_timg.reshape(256,256)\n",
    "    cv2.imwrite('encrptedlena.png', himg)\n",
    "    '''cv2.imshow('test_encrypted',himg)\n",
    "    cv2.imshow('original',image)\n",
    "    while True:\n",
    "        if cv2.waitKey(30)==ord('a'):\n",
    "            break\n",
    "    return _timg'''\n",
    "    #start decryption\n",
    "    \n",
    "    _timg=np.array(_timg).astype('uint8')\n",
    "    key=np.array(key).astype('uint8')\n",
    "    _timg=np.bitwise_xor(key,_timg)\n",
    "    for i in range(len(_timg)-1,1,-1):\n",
    "        _timg[i],_timg[indices[x[i]]]=_timg[indices[x[i]]],_timg[i]\n",
    "        \n",
    "    print(\"hello\")\n",
    "    print(_timg)\n",
    "    #assuming all valules are different\n",
    "\n",
    "    himg1=_timg.reshape(256,256)\n",
    "    print(himg1)\n",
    "    cv2.imwrite('decyptedlena.png', himg1)\n",
    "    #return _timg \n",
    "\n",
    "\n",
    "    #end decryption\n",
    "\n",
    "    #test the decryption  \n"
   ]
  },
  {
   "cell_type": "code",
   "execution_count": 23,
   "metadata": {},
   "outputs": [],
   "source": [
    "def circshift(arr,shift=1):\n",
    "    while shift:\n",
    "        key=arr[-1]\n",
    "        for i in range(len(arr)-1,0,-1):\n",
    "            arr[i]=arr[i-1]\n",
    "        arr[0]=key\n",
    "        shift-=1\n",
    "\n",
    "    return arr"
   ]
  },
  {
   "cell_type": "code",
   "execution_count": 45,
   "metadata": {},
   "outputs": [
    {
     "name": "stdout",
     "output_type": "stream",
     "text": [
      "[[162 162 159 ... 168 170 141]\n",
      " [162 162 159 ... 168 170 141]\n",
      " [163 159 160 ... 157 150 115]\n",
      " ...\n",
      " [ 51  51  53 ...  81  92  91]\n",
      " [ 44  48  50 ...  92 101  98]\n",
      " [ 43  56  50 ... 101 102 106]]\n",
      "confusion\n",
      "enc\n",
      "[131  97 140 ... 132 181 165]\n",
      "hello\n",
      "[155  92 159 ... 101 102 106]\n",
      "[[155  92 159 ... 168 170 141]\n",
      " [162 162 159 ... 168 170 141]\n",
      " [163 159 160 ... 157 150 115]\n",
      " ...\n",
      " [ 51  51  53 ...  81  92  91]\n",
      " [ 44  48  50 ...  92 101  98]\n",
      " [ 43  56  50 ... 101 102 106]]\n"
     ]
    }
   ],
   "source": [
    "encryption_function(img)"
   ]
  }
 ],
 "metadata": {
  "kernelspec": {
   "display_name": "Python 3",
   "language": "python",
   "name": "python3"
  },
  "language_info": {
   "codemirror_mode": {
    "name": "ipython",
    "version": 3
   },
   "file_extension": ".py",
   "mimetype": "text/x-python",
   "name": "python",
   "nbconvert_exporter": "python",
   "pygments_lexer": "ipython3",
   "version": "3.6.5"
  }
 },
 "nbformat": 4,
 "nbformat_minor": 2
}
